{
  "nbformat": 4,
  "nbformat_minor": 0,
  "metadata": {
    "colab": {
      "provenance": [],
      "authorship_tag": "ABX9TyMFcyaLXsWXfg5MPm8xqNYn"
    },
    "kernelspec": {
      "name": "python3",
      "display_name": "Python 3"
    },
    "language_info": {
      "name": "python"
    }
  },
  "cells": [
    {
      "cell_type": "markdown",
      "source": [
        "#IMPORTANT:  \n",
        "time series data py rnn implement krty hai"
      ],
      "metadata": {
        "id": "OGeNJH7fWqbe"
      }
    },
    {
      "cell_type": "markdown",
      "source": [
        "#RNN(Recurent neural networks and its types\n",
        "hum keh skty hn hain k\n",
        "\n",
        "Below both are types\n",
        "\n",
        "1 LSTM(LONG SHORT TERM MEMORY)\n",
        "\n",
        "2 GRU(GATED RECURENT UNIT)"
      ],
      "metadata": {
        "id": "j1Ui5KFQVEg_"
      }
    },
    {
      "cell_type": "markdown",
      "source": [
        "#RNN"
      ],
      "metadata": {
        "id": "nevyrl0GVqoH"
      }
    },
    {
      "cell_type": "code",
      "execution_count": 1,
      "metadata": {
        "id": "DAqNnvfaU6yg"
      },
      "outputs": [],
      "source": [
        "import numpy as np\n",
        "import tensorflow as tf\n",
        "from tensorflow.keras.layers import Dense, SimpleRNN\n",
        "from tensorflow.keras.models import Sequential\n",
        "# ignore warnings\n",
        "import warnings\n",
        "warnings.filterwarnings('ignore')"
      ]
    },
    {
      "cell_type": "markdown",
      "source": [
        "Ab hum koi sa b random data generat karen gy"
      ],
      "metadata": {
        "id": "HVsa1SnpV39p"
      }
    },
    {
      "cell_type": "code",
      "source": [
        "# Generate example data\n",
        "X = np.random.rand(100, 10, 1)\n",
        "y = np.random.randint(0, 2, size=(100,))   #0 sy start karna hia aur 2 values wala integer hona chaheya normaly jo 0 or 1 hi ho skta hai"
      ],
      "metadata": {
        "id": "wuTaASyHV2GF"
      },
      "execution_count": 2,
      "outputs": []
    },
    {
      "cell_type": "code",
      "source": [
        "y"
      ],
      "metadata": {
        "colab": {
          "base_uri": "https://localhost:8080/"
        },
        "id": "ybWJh-G0Xkox",
        "outputId": "33669753-254a-478f-b4ae-a3c7b70d77ea"
      },
      "execution_count": 6,
      "outputs": [
        {
          "output_type": "execute_result",
          "data": {
            "text/plain": [
              "array([1, 0, 1, 1, 1, 0, 0, 1, 1, 0, 1, 0, 0, 0, 1, 0, 0, 0, 1, 0, 0, 1,\n",
              "       0, 1, 0, 1, 1, 1, 0, 0, 1, 0, 1, 1, 1, 0, 1, 0, 0, 0, 0, 0, 0, 1,\n",
              "       1, 1, 1, 1, 0, 1, 0, 0, 1, 0, 0, 1, 0, 0, 1, 1, 0, 0, 0, 0, 0, 0,\n",
              "       0, 0, 0, 0, 1, 0, 0, 1, 1, 0, 1, 0, 1, 0, 1, 0, 1, 1, 1, 0, 0, 1,\n",
              "       0, 0, 1, 0, 1, 1, 0, 1, 0, 0, 1, 1])"
            ]
          },
          "metadata": {},
          "execution_count": 6
        }
      ]
    },
    {
      "cell_type": "code",
      "source": [
        "X.shape, y.shape"
      ],
      "metadata": {
        "colab": {
          "base_uri": "https://localhost:8080/"
        },
        "id": "76CaYM1tV8HN",
        "outputId": "ef352f6f-3180-470a-9687-371031b19c09"
      },
      "execution_count": 3,
      "outputs": [
        {
          "output_type": "execute_result",
          "data": {
            "text/plain": [
              "((100, 10, 1), (100,))"
            ]
          },
          "metadata": {},
          "execution_count": 3
        }
      ]
    },
    {
      "cell_type": "markdown",
      "source": [
        "matlab x shape mn hamary pass data hai aur y main labels a gy hai"
      ],
      "metadata": {
        "id": "bG8LOpnkWKpX"
      }
    },
    {
      "cell_type": "markdown",
      "source": [
        "#Ab random data py model implement karty hain"
      ],
      "metadata": {
        "id": "jutj-Fr4WfF0"
      }
    },
    {
      "cell_type": "code",
      "source": [
        "# Define the model\n",
        "model = Sequential([\n",
        "    SimpleRNN(32, input_shape=(10, 1)),     #32 neurons hai aur hamari input shape mn data ki shape hai\n",
        "    Dense(1, activation='sigmoid')          # binary classification mn sigmoid use krty hn wesy b labels ko print karen to binary hain\n",
        "])\n",
        "\n",
        "# Compile the model\n",
        "model.compile(optimizer='adam', loss='binary_crossentropy', metrics=['accuracy'])\n",
        "\n",
        "# Train the model\n",
        "history = model.fit(X, y, epochs=10, batch_size=32)\n",
        "\n",
        "# Evaluate the model\n",
        "loss, accuracy = model.evaluate(X, y)\n",
        "print('Test Loss:', loss)\n",
        "print('Test Accuracy:', accuracy)"
      ],
      "metadata": {
        "colab": {
          "base_uri": "https://localhost:8080/"
        },
        "id": "IxYR8jbgWGF7",
        "outputId": "fd5625a4-c8ce-4d3c-8454-0b4f1d80512e"
      },
      "execution_count": 4,
      "outputs": [
        {
          "output_type": "stream",
          "name": "stdout",
          "text": [
            "Epoch 1/10\n",
            "4/4 [==============================] - 1s 7ms/step - loss: 0.7015 - accuracy: 0.4900\n",
            "Epoch 2/10\n",
            "4/4 [==============================] - 0s 5ms/step - loss: 0.6957 - accuracy: 0.5100\n",
            "Epoch 3/10\n",
            "4/4 [==============================] - 0s 5ms/step - loss: 0.6925 - accuracy: 0.4900\n",
            "Epoch 4/10\n",
            "4/4 [==============================] - 0s 5ms/step - loss: 0.6927 - accuracy: 0.4900\n",
            "Epoch 5/10\n",
            "4/4 [==============================] - 0s 5ms/step - loss: 0.6893 - accuracy: 0.4800\n",
            "Epoch 6/10\n",
            "4/4 [==============================] - 0s 6ms/step - loss: 0.6879 - accuracy: 0.5200\n",
            "Epoch 7/10\n",
            "4/4 [==============================] - 0s 5ms/step - loss: 0.6862 - accuracy: 0.5200\n",
            "Epoch 8/10\n",
            "4/4 [==============================] - 0s 6ms/step - loss: 0.6854 - accuracy: 0.5400\n",
            "Epoch 9/10\n",
            "4/4 [==============================] - 0s 5ms/step - loss: 0.6854 - accuracy: 0.5800\n",
            "Epoch 10/10\n",
            "4/4 [==============================] - 0s 7ms/step - loss: 0.6878 - accuracy: 0.5300\n",
            "4/4 [==============================] - 0s 6ms/step - loss: 0.6876 - accuracy: 0.5200\n",
            "Test Loss: 0.6875694394111633\n",
            "Test Accuracy: 0.5199999809265137\n"
          ]
        }
      ]
    }
  ]
}
